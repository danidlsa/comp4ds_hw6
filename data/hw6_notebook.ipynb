{
 "cells": [
  {
   "cell_type": "markdown",
   "metadata": {},
   "source": [
    "## Data analysis \n",
    "Team: Daniela de los Santos & Margherita Philipp"
   ]
  },
  {
   "cell_type": "code",
   "execution_count": 1,
   "metadata": {},
   "outputs": [
    {
     "name": "stdout",
     "output_type": "stream",
     "text": [
      "Cloning into 'comp4ds_hw6'...\n",
      "remote: Enumerating objects: 92, done.\u001b[K\n",
      "remote: Counting objects: 100% (92/92), done.\u001b[K\n",
      "remote: Compressing objects: 100% (55/55), done.\u001b[K\n",
      "remote: Total 92 (delta 37), reused 70 (delta 25), pack-reused 0\u001b[K\n",
      "Unpacking objects: 100% (92/92), done.\n"
     ]
    }
   ],
   "source": [
    "!git clone https://github.com/danidlsa/comp4ds_hw6.git"
   ]
  },
  {
   "cell_type": "code",
   "execution_count": 2,
   "metadata": {},
   "outputs": [
    {
     "name": "stdout",
     "output_type": "stream",
     "text": [
      "Error initializing plugin EntryPoint('windows', 'keyring.backends.Windows', None, Distribution('keyring', '13.2.1-py3.7')).\n",
      "Traceback (most recent call last):\n",
      "  File \"/anaconda3/lib/python3.7/site-packages/cffi/cparser.py\", line 276, in _parse\n",
      "    ast = _get_parser().parse(fullcsource)\n",
      "  File \"/anaconda3/lib/python3.7/site-packages/pycparser/c_parser.py\", line 152, in parse\n",
      "    debug=debuglevel)\n",
      "  File \"/anaconda3/lib/python3.7/site-packages/pycparser/ply/yacc.py\", line 331, in parse\n",
      "    return self.parseopt_notrack(input, lexer, debug, tracking, tokenfunc)\n",
      "  File \"/anaconda3/lib/python3.7/site-packages/pycparser/ply/yacc.py\", line 1199, in parseopt_notrack\n",
      "    tok = call_errorfunc(self.errorfunc, errtoken, self)\n",
      "  File \"/anaconda3/lib/python3.7/site-packages/pycparser/ply/yacc.py\", line 193, in call_errorfunc\n",
      "    r = errorfunc(token)\n",
      "  File \"/anaconda3/lib/python3.7/site-packages/pycparser/c_parser.py\", line 1761, in p_error\n",
      "    column=self.clex.find_tok_column(p)))\n",
      "  File \"/anaconda3/lib/python3.7/site-packages/pycparser/plyparser.py\", line 66, in _parse_error\n",
      "    raise ParseError(\"%s: %s\" % (coord, msg))\n",
      "pycparser.plyparser.ParseError: <cdef source string>:3:70: before: HANDLE\n",
      "\n",
      "During handling of the above exception, another exception occurred:\n",
      "\n",
      "Traceback (most recent call last):\n",
      "  File \"/anaconda3/lib/python3.7/site-packages/keyring/backend.py\", line 154, in _load_plugins\n",
      "    init_func = ep.load()\n",
      "  File \"/anaconda3/lib/python3.7/site-packages/entrypoints.py\", line 77, in load\n",
      "    mod = import_module(self.module_name)\n",
      "  File \"/anaconda3/lib/python3.7/importlib/__init__.py\", line 127, in import_module\n",
      "    return _bootstrap._gcd_import(name[level:], package, level)\n",
      "  File \"<frozen importlib._bootstrap>\", line 1006, in _gcd_import\n",
      "  File \"<frozen importlib._bootstrap>\", line 983, in _find_and_load\n",
      "  File \"<frozen importlib._bootstrap>\", line 967, in _find_and_load_unlocked\n",
      "  File \"<frozen importlib._bootstrap>\", line 677, in _load_unlocked\n",
      "  File \"<frozen importlib._bootstrap_external>\", line 728, in exec_module\n",
      "  File \"<frozen importlib._bootstrap>\", line 219, in _call_with_frames_removed\n",
      "  File \"/anaconda3/lib/python3.7/site-packages/keyring/backends/Windows.py\", line 12, in <module>\n",
      "    from win32ctypes.pywin32 import pywintypes\n",
      "  File \"/anaconda3/lib/python3.7/site-packages/win32ctypes/pywin32/__init__.py\", line 11, in <module>\n",
      "    from win32ctypes.pywin32 import win32api\n",
      "  File \"/anaconda3/lib/python3.7/site-packages/win32ctypes/pywin32/win32api.py\", line 12, in <module>\n",
      "    from win32ctypes.core import (\n",
      "  File \"<frozen importlib._bootstrap>\", line 983, in _find_and_load\n",
      "  File \"<frozen importlib._bootstrap>\", line 967, in _find_and_load_unlocked\n",
      "  File \"<frozen importlib._bootstrap>\", line 668, in _load_unlocked\n",
      "  File \"<frozen importlib._bootstrap>\", line 638, in _load_backward_compatible\n",
      "  File \"/anaconda3/lib/python3.7/site-packages/win32ctypes/core/__init__.py\", line 36, in load_module\n",
      "    module = importlib.import_module(self.redirect_module)\n",
      "  File \"/anaconda3/lib/python3.7/importlib/__init__.py\", line 127, in import_module\n",
      "    return _bootstrap._gcd_import(name[level:], package, level)\n",
      "  File \"/anaconda3/lib/python3.7/site-packages/win32ctypes/core/cffi/_dll.py\", line 19, in <module>\n",
      "    \"\"\")\n",
      "  File \"/anaconda3/lib/python3.7/site-packages/cffi/api.py\", line 107, in cdef\n",
      "    self._cdef(csource, override=override, packed=packed)\n",
      "  File \"/anaconda3/lib/python3.7/site-packages/cffi/api.py\", line 121, in _cdef\n",
      "    self._parser.parse(csource, override=override, **options)\n",
      "  File \"/anaconda3/lib/python3.7/site-packages/cffi/cparser.py\", line 315, in parse\n",
      "    self._internal_parse(csource)\n",
      "  File \"/anaconda3/lib/python3.7/site-packages/cffi/cparser.py\", line 320, in _internal_parse\n",
      "    ast, macros, csource = self._parse(csource)\n",
      "  File \"/anaconda3/lib/python3.7/site-packages/cffi/cparser.py\", line 278, in _parse\n",
      "    self.convert_pycparser_error(e, csource)\n",
      "  File \"/anaconda3/lib/python3.7/site-packages/cffi/cparser.py\", line 307, in convert_pycparser_error\n",
      "    raise CDefError(msg)\n",
      "cffi.error.CDefError: cannot parse \"HMODULE  volatile volatile const  LoadLibraryExW(LPCTSTR lpFileName, HANDLE hFile, DWORD dwFlags);\"\n",
      "<cdef source string>:3:70: before: HANDLE\n",
      "Obtaining file:///Users/MargheritaP/Documents/GitHub/comp4ds_hw6/data/comp4ds_hw6\n",
      "  Preparing metadata (setup.py) ... \u001b[?25ldone\n",
      "\u001b[?25hRequirement already satisfied: joblib in /anaconda3/lib/python3.7/site-packages (from hw6-library==0.1.0) (1.1.0)\n",
      "Requirement already satisfied: numpy in /anaconda3/lib/python3.7/site-packages (from hw6-library==0.1.0) (1.21.6)\n",
      "Requirement already satisfied: pandas in /anaconda3/lib/python3.7/site-packages (from hw6-library==0.1.0) (1.1.5)\n",
      "Requirement already satisfied: python-dateutil in /anaconda3/lib/python3.7/site-packages (from hw6-library==0.1.0) (2.7.3)\n",
      "Requirement already satisfied: pytz in /anaconda3/lib/python3.7/site-packages (from hw6-library==0.1.0) (2018.5)\n",
      "Requirement already satisfied: scikit-learn in /anaconda3/lib/python3.7/site-packages (from hw6-library==0.1.0) (1.0.2)\n",
      "Requirement already satisfied: scipy in /anaconda3/lib/python3.7/site-packages (from hw6-library==0.1.0) (1.7.3)\n",
      "Requirement already satisfied: six in /anaconda3/lib/python3.7/site-packages (from hw6-library==0.1.0) (1.11.0)\n",
      "Requirement already satisfied: threadpoolctl in /anaconda3/lib/python3.7/site-packages (from hw6-library==0.1.0) (3.1.0)\n",
      "Installing collected packages: hw6-library\n",
      "  Running setup.py develop for hw6-library\n",
      "Successfully installed hw6-library-0.1.0\n"
     ]
    }
   ],
   "source": [
    "!pip install -e comp4ds_hw6"
   ]
  },
  {
   "cell_type": "code",
   "execution_count": 3,
   "metadata": {},
   "outputs": [
    {
     "ename": "ModuleNotFoundError",
     "evalue": "No module named 'hw6_library'",
     "output_type": "error",
     "traceback": [
      "\u001b[0;31m---------------------------------------------------------------------------\u001b[0m",
      "\u001b[0;31mModuleNotFoundError\u001b[0m                       Traceback (most recent call last)",
      "\u001b[0;32m<ipython-input-3-d1d5f20a15cd>\u001b[0m in \u001b[0;36m<module>\u001b[0;34m()\u001b[0m\n\u001b[0;32m----> 1\u001b[0;31m \u001b[0;32mfrom\u001b[0m \u001b[0mhw6_library\u001b[0m \u001b[0;32mimport\u001b[0m \u001b[0mdata_functions_hw5\u001b[0m \u001b[0;32mas\u001b[0m \u001b[0mdfun\u001b[0m\u001b[0;34m\u001b[0m\u001b[0;34m\u001b[0m\u001b[0m\n\u001b[0m",
      "\u001b[0;31mModuleNotFoundError\u001b[0m: No module named 'hw6_library'"
     ]
    }
   ],
   "source": [
    "from hw6_library import data_functions_hw5 as dfun"
   ]
  },
  {
   "cell_type": "code",
   "execution_count": null,
   "metadata": {},
   "outputs": [],
   "source": []
  },
  {
   "cell_type": "code",
   "execution_count": null,
   "metadata": {},
   "outputs": [],
   "source": []
  },
  {
   "cell_type": "code",
   "execution_count": null,
   "metadata": {},
   "outputs": [],
   "source": [
    "#Importing the library"
   ]
  },
  {
   "cell_type": "code",
   "execution_count": null,
   "metadata": {},
   "outputs": [],
   "source": []
  },
  {
   "cell_type": "code",
   "execution_count": null,
   "metadata": {},
   "outputs": [],
   "source": []
  },
  {
   "cell_type": "code",
   "execution_count": null,
   "metadata": {},
   "outputs": [],
   "source": []
  },
  {
   "cell_type": "code",
   "execution_count": null,
   "metadata": {},
   "outputs": [],
   "source": []
  },
  {
   "cell_type": "code",
   "execution_count": null,
   "metadata": {},
   "outputs": [],
   "source": []
  }
 ],
 "metadata": {
  "kernelspec": {
   "display_name": "Python 3",
   "language": "python",
   "name": "python3"
  },
  "language_info": {
   "codemirror_mode": {
    "name": "ipython",
    "version": 3
   },
   "file_extension": ".py",
   "mimetype": "text/x-python",
   "name": "python",
   "nbconvert_exporter": "python",
   "pygments_lexer": "ipython3",
   "version": "3.7.2"
  }
 },
 "nbformat": 4,
 "nbformat_minor": 2
}
